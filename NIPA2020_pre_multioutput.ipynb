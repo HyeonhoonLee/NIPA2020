{
  "nbformat": 4,
  "nbformat_minor": 0,
  "metadata": {
    "colab": {
      "name": "NIPA2020_multioutput",
      "provenance": [],
      "mount_file_id": "1BM3fHyWwUEM5uxpqO04R3E5W2s9M8HKQ",
      "authorship_tag": "ABX9TyNcfl9d1gHbCme9EMQDDa5F",
      "include_colab_link": true
    },
    "kernelspec": {
      "name": "python3",
      "display_name": "Python 3"
    },
    "accelerator": "GPU"
  },
  "cells": [
    {
      "cell_type": "markdown",
      "metadata": {
        "id": "view-in-github",
        "colab_type": "text"
      },
      "source": [
        "<a href=\"https://colab.research.google.com/github/HyeonhoonLee/NIPA2020/blob/main/NIPA2020_pre_multioutput.ipynb\" target=\"_parent\"><img src=\"https://colab.research.google.com/assets/colab-badge.svg\" alt=\"Open In Colab\"/></a>"
      ]
    },
    {
      "cell_type": "code",
      "metadata": {
        "id": "pqFeVB6bhen7"
      },
      "source": [
        "import pandas as pd\n",
        "import numpy as np\n",
        "import os\n",
        "import tensorflow as tf"
      ],
      "execution_count": 1,
      "outputs": []
    },
    {
      "cell_type": "code",
      "metadata": {
        "id": "ImExa3y4hl9P"
      },
      "source": [
        "seed = 1234\n",
        "BATCH_SIZE = 128"
      ],
      "execution_count": 2,
      "outputs": []
    },
    {
      "cell_type": "code",
      "metadata": {
        "id": "us1ZRzPxhMnF"
      },
      "source": [
        "data_path = '/content/drive/My Drive/DataCollection/NIPA2020/'"
      ],
      "execution_count": 3,
      "outputs": []
    },
    {
      "cell_type": "code",
      "metadata": {
        "id": "LXMw-cQ7hI8l",
        "outputId": "2550f436-3d0d-419e-d26c-ba8598731159",
        "colab": {
          "base_uri": "https://localhost:8080/",
          "height": 204
        }
      },
      "source": [
        "# Data loading\n",
        "train_df = pd.read_csv('/content/drive/My Drive/DataCollection/NIPA2020/train.tsv', sep='\\t', names= [\"file_name\", \"Plant\", \"Disease\"])\n",
        "train_df.head()"
      ],
      "execution_count": 4,
      "outputs": [
        {
          "output_type": "execute_result",
          "data": {
            "text/html": [
              "<div>\n",
              "<style scoped>\n",
              "    .dataframe tbody tr th:only-of-type {\n",
              "        vertical-align: middle;\n",
              "    }\n",
              "\n",
              "    .dataframe tbody tr th {\n",
              "        vertical-align: top;\n",
              "    }\n",
              "\n",
              "    .dataframe thead th {\n",
              "        text-align: right;\n",
              "    }\n",
              "</style>\n",
              "<table border=\"1\" class=\"dataframe\">\n",
              "  <thead>\n",
              "    <tr style=\"text-align: right;\">\n",
              "      <th></th>\n",
              "      <th>file_name</th>\n",
              "      <th>Plant</th>\n",
              "      <th>Disease</th>\n",
              "    </tr>\n",
              "  </thead>\n",
              "  <tbody>\n",
              "    <tr>\n",
              "      <th>0</th>\n",
              "      <td>3_5_1123.jpg</td>\n",
              "      <td>3</td>\n",
              "      <td>5</td>\n",
              "    </tr>\n",
              "    <tr>\n",
              "      <th>1</th>\n",
              "      <td>3_20_1048.jpg</td>\n",
              "      <td>3</td>\n",
              "      <td>20</td>\n",
              "    </tr>\n",
              "    <tr>\n",
              "      <th>2</th>\n",
              "      <td>4_2_401.jpg</td>\n",
              "      <td>4</td>\n",
              "      <td>2</td>\n",
              "    </tr>\n",
              "    <tr>\n",
              "      <th>3</th>\n",
              "      <td>4_7_740.jpg</td>\n",
              "      <td>4</td>\n",
              "      <td>7</td>\n",
              "    </tr>\n",
              "    <tr>\n",
              "      <th>4</th>\n",
              "      <td>4_11_93.jpg</td>\n",
              "      <td>4</td>\n",
              "      <td>11</td>\n",
              "    </tr>\n",
              "  </tbody>\n",
              "</table>\n",
              "</div>"
            ],
            "text/plain": [
              "       file_name  Plant  Disease\n",
              "0   3_5_1123.jpg      3        5\n",
              "1  3_20_1048.jpg      3       20\n",
              "2    4_2_401.jpg      4        2\n",
              "3    4_7_740.jpg      4        7\n",
              "4    4_11_93.jpg      4       11"
            ]
          },
          "metadata": {
            "tags": []
          },
          "execution_count": 4
        }
      ]
    },
    {
      "cell_type": "code",
      "metadata": {
        "id": "h_bsT68zrlpQ",
        "outputId": "da89e1a2-10a2-441d-d2b9-349b8af51003",
        "colab": {
          "base_uri": "https://localhost:8080/",
          "height": 170
        }
      },
      "source": [
        "train_df[\"Plant\"].value_counts()"
      ],
      "execution_count": 5,
      "outputs": [
        {
          "output_type": "execute_result",
          "data": {
            "text/plain": [
              "13    6400\n",
              "4     2400\n",
              "7     1600\n",
              "3     1600\n",
              "8     1600\n",
              "5      800\n",
              "11     800\n",
              "10     800\n",
              "Name: Plant, dtype: int64"
            ]
          },
          "metadata": {
            "tags": []
          },
          "execution_count": 5
        }
      ]
    },
    {
      "cell_type": "code",
      "metadata": {
        "id": "kGBc0ghUKDn1"
      },
      "source": [
        "# plantclasss = {7:13, 1:4, 4:7, 3:3, 0:8, 6:5, 5:11, 2:10}"
      ],
      "execution_count": 6,
      "outputs": []
    },
    {
      "cell_type": "code",
      "metadata": {
        "id": "pObDUND_KlEp"
      },
      "source": [
        "train_df.Plant = pd.factorize(train_df.Plant)[0]"
      ],
      "execution_count": 7,
      "outputs": []
    },
    {
      "cell_type": "code",
      "metadata": {
        "id": "V1GeBepWKtxJ",
        "outputId": "de36a6e6-15b3-46c1-85ea-c66c4d7a1668",
        "colab": {
          "base_uri": "https://localhost:8080/",
          "height": 170
        }
      },
      "source": [
        "train_df[\"Plant\"].value_counts()"
      ],
      "execution_count": 8,
      "outputs": [
        {
          "output_type": "execute_result",
          "data": {
            "text/plain": [
              "7    6400\n",
              "1    2400\n",
              "4    1600\n",
              "3    1600\n",
              "0    1600\n",
              "6     800\n",
              "5     800\n",
              "2     800\n",
              "Name: Plant, dtype: int64"
            ]
          },
          "metadata": {
            "tags": []
          },
          "execution_count": 8
        }
      ]
    },
    {
      "cell_type": "code",
      "metadata": {
        "id": "XRweMB13rs8D",
        "outputId": "eb80810d-af07-4eb6-c1ec-72eb3866a114",
        "colab": {
          "base_uri": "https://localhost:8080/",
          "height": 272
        }
      },
      "source": [
        "train_df[\"Disease\"].value_counts()"
      ],
      "execution_count": 9,
      "outputs": [
        {
          "output_type": "execute_result",
          "data": {
            "text/plain": [
              "20    3200\n",
              "6     1600\n",
              "9     1600\n",
              "1     1600\n",
              "15     800\n",
              "7      800\n",
              "14     800\n",
              "5      800\n",
              "11     800\n",
              "18     800\n",
              "2      800\n",
              "17     800\n",
              "16     800\n",
              "8      800\n",
              "Name: Disease, dtype: int64"
            ]
          },
          "metadata": {
            "tags": []
          },
          "execution_count": 9
        }
      ]
    },
    {
      "cell_type": "code",
      "metadata": {
        "id": "UlIrnzdWKxoM"
      },
      "source": [
        "train_df.Disease = pd.factorize(train_df.Disease)[0]"
      ],
      "execution_count": 10,
      "outputs": []
    },
    {
      "cell_type": "code",
      "metadata": {
        "id": "IRQlwNAuL59X"
      },
      "source": [
        "# diseaseclasss = {1:20, 7:6, 6:9, 8:1, 13:15, 5:7, 12:14, 4:5, 11:11, 3:18, 10:2, 2:17, 9:16, 0:8}"
      ],
      "execution_count": null,
      "outputs": []
    },
    {
      "cell_type": "code",
      "metadata": {
        "id": "wtaCHHANK23F",
        "outputId": "9202f068-c929-4067-9728-f3154b0f3e03",
        "colab": {
          "base_uri": "https://localhost:8080/",
          "height": 272
        }
      },
      "source": [
        "train_df[\"Disease\"].value_counts()"
      ],
      "execution_count": 11,
      "outputs": [
        {
          "output_type": "execute_result",
          "data": {
            "text/plain": [
              "1     3200\n",
              "7     1600\n",
              "6     1600\n",
              "8     1600\n",
              "13     800\n",
              "5      800\n",
              "12     800\n",
              "4      800\n",
              "11     800\n",
              "3      800\n",
              "10     800\n",
              "2      800\n",
              "9      800\n",
              "0      800\n",
              "Name: Disease, dtype: int64"
            ]
          },
          "metadata": {
            "tags": []
          },
          "execution_count": 11
        }
      ]
    },
    {
      "cell_type": "code",
      "metadata": {
        "id": "w0sJd03WqL0h"
      },
      "source": [
        "# train_df['Plant'] = train_df['Plant'].astype(str)\n",
        "# train_df['Disease'] = train_df['Disease'].astype(str)"
      ],
      "execution_count": null,
      "outputs": []
    },
    {
      "cell_type": "code",
      "metadata": {
        "id": "5lqJWd29txCr"
      },
      "source": [
        "# train_df['label'] = list(zip(train_df.Plant, train_df.Disease))\n",
        "# train_df.head()"
      ],
      "execution_count": null,
      "outputs": []
    },
    {
      "cell_type": "code",
      "metadata": {
        "id": "9kDQqYhNMIuo"
      },
      "source": [
        "# train_df['label'].value_counts()"
      ],
      "execution_count": null,
      "outputs": []
    },
    {
      "cell_type": "code",
      "metadata": {
        "id": "ny3QZndYceRa"
      },
      "source": [
        "# train_df.label = pd.factorize(train_df.label)[0]\n",
        "# train_df.head(20)"
      ],
      "execution_count": null,
      "outputs": []
    },
    {
      "cell_type": "code",
      "metadata": {
        "id": "FMGoCRbdbfa1"
      },
      "source": [
        "# label_to_factor = {(13,1):0, (3,20):1, (13,6):2, (4,11):3, (13,18):4, (4,7):5,\n",
        "#                    (5,8):6, (8,9):7, (13,16):8, (10,20):9, (13,9):10, (8,6):11,\n",
        "#                    (3,5):12, (11,14):13, (13,17):14, (7,1):15, (7,20):16, (13,15):17,\n",
        "#                    (4,2):18, (13,20):19}"
      ],
      "execution_count": null,
      "outputs": []
    },
    {
      "cell_type": "code",
      "metadata": {
        "id": "36B6EPJfcmjY"
      },
      "source": [
        "# label_to_factor = {'(13,1)':0, '(3,20)':1, '(13,6)':2, '(4,11)':3, '(13,18)':4, '(4,7)':5,\n",
        "#                    '(5,8)':6, '(8,9)':7, '(13,16)':8, '(10,20)':9, '(13,9)':10, '(8,6)':11,\n",
        "#                    '(3,5)':12, '(11,14)':13, '(13,17)':14, '(7,1)':15, '(7,20)':16, '(13,15)':17,\n",
        "#                    '(4,2)':18, '(13,20)':19}"
      ],
      "execution_count": null,
      "outputs": []
    },
    {
      "cell_type": "code",
      "metadata": {
        "id": "690Bh9mIH_rn"
      },
      "source": [
        "# train2_df = train_df.replace({\"label\":label_to_factor})\n",
        "# train2_df.head()"
      ],
      "execution_count": null,
      "outputs": []
    },
    {
      "cell_type": "code",
      "metadata": {
        "id": "oHnmF_VZIoIx"
      },
      "source": [
        "# train_df['label'].value_counts()"
      ],
      "execution_count": null,
      "outputs": []
    },
    {
      "cell_type": "code",
      "metadata": {
        "id": "eGJhVyG-lCey"
      },
      "source": [
        "# train_p_df = train_df.drop(['Disease'], axis=1)\n",
        "# train_p_df.tail()"
      ],
      "execution_count": null,
      "outputs": []
    },
    {
      "cell_type": "code",
      "metadata": {
        "id": "MN9dx-frlTYj"
      },
      "source": [
        "# train_d_df = train_df.drop(['Plant'], axis=1)\n",
        "# train_d_df.head()"
      ],
      "execution_count": null,
      "outputs": []
    },
    {
      "cell_type": "code",
      "metadata": {
        "id": "Cae7byDQlgMJ"
      },
      "source": [
        "from keras_preprocessing.image import ImageDataGenerator"
      ],
      "execution_count": 13,
      "outputs": []
    },
    {
      "cell_type": "code",
      "metadata": {
        "id": "Y4CIa6hXpk6f"
      },
      "source": [
        "from keras.layers import Dense, Activation, Flatten, Dropout, BatchNormalization, Input\n",
        "from keras.layers import Conv2D, MaxPooling2D\n",
        "from keras import regularizers, optimizers, Model"
      ],
      "execution_count": 14,
      "outputs": []
    },
    {
      "cell_type": "code",
      "metadata": {
        "id": "TCniDMw9huGz"
      },
      "source": [
        "train_datagen = tf.keras.preprocessing.image.ImageDataGenerator(\n",
        "        rescale=1./255,\n",
        "        shear_range=0.2,\n",
        "        zoom_range=0.2,\n",
        "        rotation_range=15,\n",
        "        width_shift_range=0.1,\n",
        "        height_shift_range=0.1,\n",
        "        horizontal_flip=True,\n",
        "        validation_split=0.2\n",
        "        )"
      ],
      "execution_count": 17,
      "outputs": []
    },
    {
      "cell_type": "code",
      "metadata": {
        "id": "ki57bLr9j3PR",
        "outputId": "6fe3dd92-373a-4dbf-f889-187a53fcdea6",
        "colab": {
          "base_uri": "https://localhost:8080/",
          "height": 34
        }
      },
      "source": [
        "train_generator=train_datagen.flow_from_dataframe(\n",
        "  dataframe=train_df,\n",
        "  directory=\"/content/drive/My Drive/DataCollection/NIPA2020/train\",\n",
        "  x_col=\"file_name\",\n",
        "  # y_col=\"label\",\n",
        "  y_col=[\"Plant\",\"Disease\"],\n",
        "  subset=\"training\",\n",
        "  batch_size=BATCH_SIZE,\n",
        "  seed=seed,\n",
        "  shuffle=True,\n",
        "  class_mode=\"raw\",\n",
        "  target_size=(128,128))"
      ],
      "execution_count": 18,
      "outputs": [
        {
          "output_type": "stream",
          "text": [
            "Found 12800 validated image filenames.\n"
          ],
          "name": "stdout"
        }
      ]
    },
    {
      "cell_type": "code",
      "metadata": {
        "id": "idJhol3Enlnh",
        "outputId": "649b0c6d-1925-4906-84d0-c188ca7e7e17",
        "colab": {
          "base_uri": "https://localhost:8080/",
          "height": 34
        }
      },
      "source": [
        "validation_generator=train_datagen.flow_from_dataframe(\n",
        "  dataframe=train_df,\n",
        "  directory=\"/content/drive/My Drive/DataCollection/NIPA2020/train\",\n",
        "  x_col=\"file_name\",\n",
        "  y_col=[\"Plant\",\"Disease\"],\n",
        "  subset=\"validation\",\n",
        "  batch_size=BATCH_SIZE,\n",
        "  seed=seed,\n",
        "  shuffle=True,\n",
        "  class_mode=\"raw\",\n",
        "  target_size=(128,128))"
      ],
      "execution_count": 19,
      "outputs": [
        {
          "output_type": "stream",
          "text": [
            "Found 3200 validated image filenames.\n"
          ],
          "name": "stdout"
        }
      ]
    },
    {
      "cell_type": "code",
      "metadata": {
        "id": "Ld1cqqispftx"
      },
      "source": [
        "# model = tf.keras.Sequential()\n",
        "# model.add(Conv2D(64, (3, 3), padding='same',\n",
        "#                  input_shape=(128,128,3)))\n",
        "# model.add(Activation('relu'))\n",
        "# model.add(Conv2D(64, (3, 3)))\n",
        "# model.add(Activation('relu'))\n",
        "# model.add(MaxPooling2D(pool_size=(2, 2)))\n",
        "# model.add(Dropout(0.25))\n",
        "# model.add(Conv2D(32, (3, 3), padding='same'))\n",
        "# model.add(Activation('relu'))\n",
        "# model.add(Conv2D(32, (3, 3)))\n",
        "# model.add(Activation('relu'))\n",
        "# model.add(MaxPooling2D(pool_size=(2, 2)))\n",
        "# model.add(Dropout(0.25))\n",
        "# model.add(Flatten())\n",
        "# model.add(Dense(512))\n",
        "# model.add(Activation('relu'))\n",
        "# model.add(Dropout(0.5))\n",
        "# model.add(Dense(18, activation='softmax'))"
      ],
      "execution_count": null,
      "outputs": []
    },
    {
      "cell_type": "code",
      "metadata": {
        "id": "WAa5lfxYyA0e"
      },
      "source": [
        "# inp = Input(shape = (128,128,3))\n",
        "# x = Conv2D(32, (3, 3), padding = 'same')(inp)\n",
        "# x = Activation('relu')(x)\n",
        "# x = Conv2D(32, (3, 3))(x)\n",
        "# x = Activation('relu')(x)\n",
        "# x = MaxPooling2D(pool_size = (2, 2))(x)\n",
        "# x = Dropout(0.25)(x)\n",
        "# x = Conv2D(64, (3, 3), padding = 'same')(x)\n",
        "# x = Activation('relu')(x)\n",
        "# x = Conv2D(64, (3, 3))(x)\n",
        "# x = Activation('relu')(x)\n",
        "# x = MaxPooling2D(pool_size = (2, 2))(x)\n",
        "# x = Dropout(0.25)(x)\n",
        "# x = Flatten()(x)\n",
        "# x = Dense(512)(x)\n",
        "# x = Activation('relu')(x)\n",
        "# x = Dropout(0.5)(x)\n",
        "# output1 = Dense(8, activation = 'sigmoid')(x)\n",
        "# output2 = Dense(14, activation = 'sigmoid')(x)\n",
        "# model = Model(inp,[output1,output2])\n"
      ],
      "execution_count": null,
      "outputs": []
    },
    {
      "cell_type": "code",
      "metadata": {
        "id": "iUfAWQVsREBQ"
      },
      "source": [
        "from keras.applications.densenet import DenseNet121\n",
        "orig_model = DenseNet121(include_top=False, weights='imagenet', pooling='avg')\n",
        "inp = Input(shape = (128,128,3))\n",
        "x = orig_model(inp)\n",
        "output1 = Dense(8, activation = 'sigmoid')(x)\n",
        "output2 = Dense(14, activation = 'sigmoid')(x)\n",
        "model = Model(inp,[output1,output2])\n",
        "# output = Dense(20, activation='sigmoid')(x)\n",
        "# model = Model(inp, output)"
      ],
      "execution_count": 22,
      "outputs": []
    },
    {
      "cell_type": "code",
      "metadata": {
        "id": "6Pud5RKBpFLY",
        "outputId": "f4ae57a8-962a-4aed-f312-59b040e4c7d7",
        "colab": {
          "base_uri": "https://localhost:8080/",
          "height": 289
        }
      },
      "source": [
        "model.summary()"
      ],
      "execution_count": 23,
      "outputs": [
        {
          "output_type": "stream",
          "text": [
            "Model: \"functional_3\"\n",
            "__________________________________________________________________________________________________\n",
            "Layer (type)                    Output Shape         Param #     Connected to                     \n",
            "==================================================================================================\n",
            "input_4 (InputLayer)            [(None, 128, 128, 3) 0                                            \n",
            "__________________________________________________________________________________________________\n",
            "densenet121 (Functional)        (None, 1024)         7037504     input_4[0][0]                    \n",
            "__________________________________________________________________________________________________\n",
            "dense_2 (Dense)                 (None, 8)            8200        densenet121[0][0]                \n",
            "__________________________________________________________________________________________________\n",
            "dense_3 (Dense)                 (None, 14)           14350       densenet121[0][0]                \n",
            "==================================================================================================\n",
            "Total params: 7,060,054\n",
            "Trainable params: 6,976,406\n",
            "Non-trainable params: 83,648\n",
            "__________________________________________________________________________________________________\n"
          ],
          "name": "stdout"
        }
      ]
    },
    {
      "cell_type": "code",
      "metadata": {
        "id": "qtEJhzhxyHEI"
      },
      "source": [
        "# model.compile(optimizers.rmsprop(lr = 0.0001, decay = 1e-6),\n",
        "# loss = [\"binary_crossentropy\",\"binary_crossentropy\",,metrics = [\"accuracy\"])"
      ],
      "execution_count": null,
      "outputs": []
    },
    {
      "cell_type": "code",
      "metadata": {
        "id": "LT2Vwx2b0jvb"
      },
      "source": [
        "loss = tf.keras.losses.SparseCategoricalCrossentropy(\n",
        "    from_logits=False)\n",
        "# loss = tf.keras.losses.CategoricalCrossentropy(\n",
        "#     from_logits=False)"
      ],
      "execution_count": 24,
      "outputs": []
    },
    {
      "cell_type": "code",
      "metadata": {
        "id": "Og4QSnoJoLB8"
      },
      "source": [
        "model.compile(optimizer='adam', \n",
        "              # loss = {\"dense_1\" : loss, \"dense_2\" : loss},\n",
        "              loss = [loss, loss],\n",
        "              metrics=[tf.keras.metrics.SparseCategoricalAccuracy()]\n",
        "              # metrics='mae'\n",
        "              )"
      ],
      "execution_count": 25,
      "outputs": []
    },
    {
      "cell_type": "code",
      "metadata": {
        "id": "ISZ8_eFqszrR",
        "outputId": "723e2461-3a48-4d99-88fd-842c56869140",
        "colab": {
          "base_uri": "https://localhost:8080/",
          "height": 51
        }
      },
      "source": [
        "checkpoint_path = os.path.join(data_path, 'weights_multi.h5')\n",
        "checkpoint_dir = os.path.dirname(checkpoint_path)\n",
        "\n",
        "# Create path if exists\n",
        "if os.path.exists(checkpoint_dir):\n",
        "    print(\"{} -- Folder already exists \\n\".format(checkpoint_dir))\n",
        "else:\n",
        "    os.makedirs(checkpoint_dir, exist_ok=True)\n",
        "    print(\"{} -- Folder create complete \\n\".format(checkpoint_dir))\n",
        "    \n",
        "cp_callback = tf.keras.callbacks.ModelCheckpoint(\n",
        "    checkpoint_path, monitor='val_accuracy', verbose=1, save_best_only=True, save_weights_only=True)"
      ],
      "execution_count": 26,
      "outputs": [
        {
          "output_type": "stream",
          "text": [
            "/content/drive/My Drive/DataCollection/NIPA2020 -- Folder already exists \n",
            "\n"
          ],
          "name": "stdout"
        }
      ]
    },
    {
      "cell_type": "code",
      "metadata": {
        "id": "30EQpIjXymP-"
      },
      "source": [
        "def generator_wrapper(generator):\n",
        "    for batch_x,batch_y in generator:\n",
        "        yield (batch_x,[batch_y[:,i] for i in range(2)])\n",
        "# def generator_wrapper2(generator):\n",
        "#     for batch_x,batch_y in generator:\n",
        "#         yield (batch_x,[batch_y[:,i] for i in range(1)])"
      ],
      "execution_count": 27,
      "outputs": []
    },
    {
      "cell_type": "code",
      "metadata": {
        "id": "Zrl2_s2pC_gN"
      },
      "source": [
        "STEP_SIZE_TRAIN=train_generator.n//train_generator.batch_size\n",
        "STEP_SIZE_VALID=validation_generator.n//validation_generator.batch_size\n",
        "\n",
        "model.fit_generator(\n",
        "    # generator=generator_wrapper(train_generator),\n",
        "    train_generator,\n",
        "                    steps_per_epoch=STEP_SIZE_TRAIN,\n",
        "                  # validation_data=generator_wrapper(validation_generator),\n",
        "                    # validation_steps=STEP_SIZE_VALID,\n",
        "                    epochs=3,verbose=1\n",
        ")"
      ],
      "execution_count": null,
      "outputs": []
    },
    {
      "cell_type": "code",
      "metadata": {
        "id": "jaIvDIpyYqC4",
        "outputId": "f3d0ff03-b8a8-433b-efa9-ca1cb521243e",
        "colab": {
          "base_uri": "https://localhost:8080/",
          "height": 204
        }
      },
      "source": [
        "test_df = pd.read_csv('/content/drive/My Drive/DataCollection/NIPA2020/test.tsv', sep='\\t', names= [\"file_name\"])\n",
        "test_df.head()"
      ],
      "execution_count": 29,
      "outputs": [
        {
          "output_type": "execute_result",
          "data": {
            "text/html": [
              "<div>\n",
              "<style scoped>\n",
              "    .dataframe tbody tr th:only-of-type {\n",
              "        vertical-align: middle;\n",
              "    }\n",
              "\n",
              "    .dataframe tbody tr th {\n",
              "        vertical-align: top;\n",
              "    }\n",
              "\n",
              "    .dataframe thead th {\n",
              "        text-align: right;\n",
              "    }\n",
              "</style>\n",
              "<table border=\"1\" class=\"dataframe\">\n",
              "  <thead>\n",
              "    <tr style=\"text-align: right;\">\n",
              "      <th></th>\n",
              "      <th>file_name</th>\n",
              "    </tr>\n",
              "  </thead>\n",
              "  <tbody>\n",
              "    <tr>\n",
              "      <th>0</th>\n",
              "      <td>0.jpg</td>\n",
              "    </tr>\n",
              "    <tr>\n",
              "      <th>1</th>\n",
              "      <td>1.jpg</td>\n",
              "    </tr>\n",
              "    <tr>\n",
              "      <th>2</th>\n",
              "      <td>2.jpg</td>\n",
              "    </tr>\n",
              "    <tr>\n",
              "      <th>3</th>\n",
              "      <td>3.jpg</td>\n",
              "    </tr>\n",
              "    <tr>\n",
              "      <th>4</th>\n",
              "      <td>4.jpg</td>\n",
              "    </tr>\n",
              "  </tbody>\n",
              "</table>\n",
              "</div>"
            ],
            "text/plain": [
              "  file_name\n",
              "0     0.jpg\n",
              "1     1.jpg\n",
              "2     2.jpg\n",
              "3     3.jpg\n",
              "4     4.jpg"
            ]
          },
          "metadata": {
            "tags": []
          },
          "execution_count": 29
        }
      ]
    },
    {
      "cell_type": "code",
      "metadata": {
        "id": "QGkgQ6FiYbuO"
      },
      "source": [
        "test_datagen = tf.keras.preprocessing.image.ImageDataGenerator(\n",
        "        rescale=1./255)"
      ],
      "execution_count": 30,
      "outputs": []
    },
    {
      "cell_type": "code",
      "metadata": {
        "id": "dm-p6SWyYjFc",
        "outputId": "c693fa0d-3354-420c-f0e3-b56f81f0ef34",
        "colab": {
          "base_uri": "https://localhost:8080/",
          "height": 34
        }
      },
      "source": [
        "test_generator=test_datagen.flow_from_dataframe(\n",
        "  dataframe=test_df,\n",
        "  directory=\"/content/drive/My Drive/DataCollection/NIPA2020/test\",\n",
        "  x_col=\"file_name\",\n",
        "  y_col=None,\n",
        "  # subset=\"validation\",\n",
        "  batch_size=BATCH_SIZE,\n",
        "  seed=seed,\n",
        "  shuffle=False,\n",
        "  class_mode=None,\n",
        "  target_size=(128,128))"
      ],
      "execution_count": 31,
      "outputs": [
        {
          "output_type": "stream",
          "text": [
            "Found 3997 validated image filenames.\n"
          ],
          "name": "stdout"
        }
      ]
    },
    {
      "cell_type": "code",
      "metadata": {
        "id": "r4k9q9-0oJ4m",
        "outputId": "33fa5919-e899-4683-ebee-92c3e6c453c3",
        "colab": {
          "base_uri": "https://localhost:8080/",
          "height": 71
        }
      },
      "source": [
        "STEP_SIZE_TEST=test_generator.n//test_generator.batch_size\n",
        "test_generator.reset()\n",
        "pred=model.predict_generator(test_generator,\n",
        "  steps=100,\n",
        "  verbose=1)"
      ],
      "execution_count": null,
      "outputs": [
        {
          "output_type": "stream",
          "text": [
            " 32/100 [========>.....................] - ETA: 25sWARNING:tensorflow:Your input ran out of data; interrupting training. Make sure that your dataset or generator can generate at least `steps_per_epoch * epochs` batches (in this case, 100 batches). You may need to use the repeat() function when building your dataset.\n",
            " 32/100 [========>.....................] - 12s 379ms/step\n"
          ],
          "name": "stdout"
        }
      ]
    },
    {
      "cell_type": "code",
      "metadata": {
        "id": "sBliprfk5Km7",
        "outputId": "cffd1f7e-8191-4b3b-d171-bb4303bb118d",
        "colab": {
          "base_uri": "https://localhost:8080/",
          "height": 34
        }
      },
      "source": [
        "pl = pred[0]\n",
        "pl.shape"
      ],
      "execution_count": null,
      "outputs": [
        {
          "output_type": "execute_result",
          "data": {
            "text/plain": [
              "(3997, 8)"
            ]
          },
          "metadata": {
            "tags": []
          },
          "execution_count": 64
        }
      ]
    },
    {
      "cell_type": "code",
      "metadata": {
        "id": "vonJaomN8BM2",
        "outputId": "237975f9-725b-45f4-e0bb-6f9176041d6b",
        "colab": {
          "base_uri": "https://localhost:8080/",
          "height": 34
        }
      },
      "source": [
        "dz = pred[1]\n",
        "dz.shape"
      ],
      "execution_count": null,
      "outputs": [
        {
          "output_type": "execute_result",
          "data": {
            "text/plain": [
              "(3997, 14)"
            ]
          },
          "metadata": {
            "tags": []
          },
          "execution_count": 65
        }
      ]
    },
    {
      "cell_type": "code",
      "metadata": {
        "id": "NWtwNQS8L0PD",
        "outputId": "f5088b10-9c73-4706-d1fb-51ed903b90a0",
        "colab": {
          "base_uri": "https://localhost:8080/",
          "height": 34
        }
      },
      "source": [
        "# labellist = []\n",
        "# for i in range(len(pred)):\n",
        "#   answer = np.argmax(pred[i], axis=-1)\n",
        "#   labellist.append(answer)\n",
        "# len(labellist)"
      ],
      "execution_count": null,
      "outputs": [
        {
          "output_type": "execute_result",
          "data": {
            "text/plain": [
              "3997"
            ]
          },
          "metadata": {
            "tags": []
          },
          "execution_count": 147
        }
      ]
    },
    {
      "cell_type": "code",
      "metadata": {
        "id": "P6qtyJo5530W",
        "outputId": "94fd7522-356e-42fc-d48a-39dac4596145",
        "colab": {
          "base_uri": "https://localhost:8080/",
          "height": 34
        }
      },
      "source": [
        "plantlist = []\n",
        "for i in range(len(pl)):\n",
        "  answer = np.argmax(pl[i], axis=-1)\n",
        "  plantlist.append(answer)\n",
        "len(plentlist)"
      ],
      "execution_count": null,
      "outputs": [
        {
          "output_type": "execute_result",
          "data": {
            "text/plain": [
              "3997"
            ]
          },
          "metadata": {
            "tags": []
          },
          "execution_count": 66
        }
      ]
    },
    {
      "cell_type": "code",
      "metadata": {
        "id": "QtxDFDe26Rlw",
        "outputId": "e10937d4-d5c5-4b3a-a8d3-07e9de94a796",
        "colab": {
          "base_uri": "https://localhost:8080/",
          "height": 34
        }
      },
      "source": [
        "diseaselist = []\n",
        "for i in range(len(dz)):\n",
        "  answer = np.argmax(dz[i], axis=-1)\n",
        "  diseaselist.append(answer)\n",
        "len(diseaselist)"
      ],
      "execution_count": null,
      "outputs": [
        {
          "output_type": "execute_result",
          "data": {
            "text/plain": [
              "3997"
            ]
          },
          "metadata": {
            "tags": []
          },
          "execution_count": 67
        }
      ]
    },
    {
      "cell_type": "code",
      "metadata": {
        "id": "o1Z6mk_y27ba"
      },
      "source": [
        "test_df[\"Plant\"] = plantlist\n",
        "test_df[\"Disease\"] = diseaselist"
      ],
      "execution_count": null,
      "outputs": []
    },
    {
      "cell_type": "code",
      "metadata": {
        "id": "mRbJ-k_f0GB5"
      },
      "source": [
        "plantclass = {7:13, 1:4, 4:7, 3:3, 0:8, 6:5, 5:11, 2:10}\n",
        "diseaseclass = {1:20, 7:6, 6:9, 8:1, 13:15, 5:7, 12:14, 4:5, 11:11, 3:18, 10:2, 2:17, 9:16, 0:8}"
      ],
      "execution_count": null,
      "outputs": []
    },
    {
      "cell_type": "code",
      "metadata": {
        "id": "bRbx1gUfh6RB",
        "outputId": "9145b140-6e13-4b68-a93f-56a29d37638f",
        "colab": {
          "base_uri": "https://localhost:8080/",
          "height": 204
        }
      },
      "source": [
        "submit_df = test_df.replace({'Plant': {7:13, 1:4, 4:7, 3:3, 0:8, 6:5, 5:11, 2:10}})\n",
        "submit2_df = submit_df.replace({'Disease': {1:20, 7:6, 6:9, 8:1, 13:15, 5:7, 12:14, 4:5, 11:11, 3:18, 10:2, 2:17, 9:16, 0:8}})\n",
        "submit2_df.head()"
      ],
      "execution_count": null,
      "outputs": [
        {
          "output_type": "execute_result",
          "data": {
            "text/html": [
              "<div>\n",
              "<style scoped>\n",
              "    .dataframe tbody tr th:only-of-type {\n",
              "        vertical-align: middle;\n",
              "    }\n",
              "\n",
              "    .dataframe tbody tr th {\n",
              "        vertical-align: top;\n",
              "    }\n",
              "\n",
              "    .dataframe thead th {\n",
              "        text-align: right;\n",
              "    }\n",
              "</style>\n",
              "<table border=\"1\" class=\"dataframe\">\n",
              "  <thead>\n",
              "    <tr style=\"text-align: right;\">\n",
              "      <th></th>\n",
              "      <th>file_name</th>\n",
              "      <th>Plant</th>\n",
              "      <th>Disease</th>\n",
              "    </tr>\n",
              "  </thead>\n",
              "  <tbody>\n",
              "    <tr>\n",
              "      <th>0</th>\n",
              "      <td>0.jpg</td>\n",
              "      <td>8</td>\n",
              "      <td>8</td>\n",
              "    </tr>\n",
              "    <tr>\n",
              "      <th>1</th>\n",
              "      <td>1.jpg</td>\n",
              "      <td>8</td>\n",
              "      <td>20</td>\n",
              "    </tr>\n",
              "    <tr>\n",
              "      <th>2</th>\n",
              "      <td>2.jpg</td>\n",
              "      <td>4</td>\n",
              "      <td>17</td>\n",
              "    </tr>\n",
              "    <tr>\n",
              "      <th>3</th>\n",
              "      <td>3.jpg</td>\n",
              "      <td>4</td>\n",
              "      <td>18</td>\n",
              "    </tr>\n",
              "    <tr>\n",
              "      <th>4</th>\n",
              "      <td>4.jpg</td>\n",
              "      <td>4</td>\n",
              "      <td>5</td>\n",
              "    </tr>\n",
              "  </tbody>\n",
              "</table>\n",
              "</div>"
            ],
            "text/plain": [
              "  file_name  Plant  Disease\n",
              "0     0.jpg      8        8\n",
              "1     1.jpg      8       20\n",
              "2     2.jpg      4       17\n",
              "3     3.jpg      4       18\n",
              "4     4.jpg      4        5"
            ]
          },
          "metadata": {
            "tags": []
          },
          "execution_count": 79
        }
      ]
    },
    {
      "cell_type": "code",
      "metadata": {
        "id": "uBg7oTwHFB-7",
        "outputId": "46f53d67-9a81-4e5a-9de8-f485825d672f",
        "colab": {
          "base_uri": "https://localhost:8080/",
          "height": 272
        }
      },
      "source": [
        "submit2_df['Disease'].value_counts()"
      ],
      "execution_count": null,
      "outputs": [
        {
          "output_type": "execute_result",
          "data": {
            "text/plain": [
              "20    686\n",
              "1     530\n",
              "6     406\n",
              "9     347\n",
              "11    295\n",
              "7     258\n",
              "17    251\n",
              "15    242\n",
              "8     220\n",
              "5     211\n",
              "18    190\n",
              "16    150\n",
              "2     146\n",
              "14     65\n",
              "Name: Disease, dtype: int64"
            ]
          },
          "metadata": {
            "tags": []
          },
          "execution_count": 89
        }
      ]
    },
    {
      "cell_type": "code",
      "metadata": {
        "id": "vdbv-HRwOnRH"
      },
      "source": [
        "# label_dic = {15:(13,1), 7:(3,20), 8: (13,6), 16:(4,11), 1:(13,18), 9:(4,7), 17:(5,8),\n",
        "#              2:(8,9), 10:(13,16), 18:(10,20), 3:(13,9), 11:(8,6), 19:(3,5),\n",
        "#              4:(11,14), 12:(13,17), 5:(7,1), 13:(7,20), 6:(13,15), 14:(4,2), 0:(13,20)}"
      ],
      "execution_count": null,
      "outputs": []
    },
    {
      "cell_type": "code",
      "metadata": {
        "id": "7XKw5J0OOq_E",
        "outputId": "39fa5f40-1cc4-47e3-ecca-7fa39eb61048",
        "colab": {
          "base_uri": "https://localhost:8080/",
          "height": 204
        }
      },
      "source": [
        "# test_df['Plant'] = labellist\n",
        "# test_df['Disease'] = labellist\n",
        "# test_df.head()"
      ],
      "execution_count": null,
      "outputs": [
        {
          "output_type": "execute_result",
          "data": {
            "text/html": [
              "<div>\n",
              "<style scoped>\n",
              "    .dataframe tbody tr th:only-of-type {\n",
              "        vertical-align: middle;\n",
              "    }\n",
              "\n",
              "    .dataframe tbody tr th {\n",
              "        vertical-align: top;\n",
              "    }\n",
              "\n",
              "    .dataframe thead th {\n",
              "        text-align: right;\n",
              "    }\n",
              "</style>\n",
              "<table border=\"1\" class=\"dataframe\">\n",
              "  <thead>\n",
              "    <tr style=\"text-align: right;\">\n",
              "      <th></th>\n",
              "      <th>file_name</th>\n",
              "      <th>Plant</th>\n",
              "      <th>Disease</th>\n",
              "    </tr>\n",
              "  </thead>\n",
              "  <tbody>\n",
              "    <tr>\n",
              "      <th>0</th>\n",
              "      <td>0.jpg</td>\n",
              "      <td>0</td>\n",
              "      <td>0</td>\n",
              "    </tr>\n",
              "    <tr>\n",
              "      <th>1</th>\n",
              "      <td>1.jpg</td>\n",
              "      <td>1</td>\n",
              "      <td>1</td>\n",
              "    </tr>\n",
              "    <tr>\n",
              "      <th>2</th>\n",
              "      <td>2.jpg</td>\n",
              "      <td>2</td>\n",
              "      <td>2</td>\n",
              "    </tr>\n",
              "    <tr>\n",
              "      <th>3</th>\n",
              "      <td>3.jpg</td>\n",
              "      <td>3</td>\n",
              "      <td>3</td>\n",
              "    </tr>\n",
              "    <tr>\n",
              "      <th>4</th>\n",
              "      <td>4.jpg</td>\n",
              "      <td>4</td>\n",
              "      <td>4</td>\n",
              "    </tr>\n",
              "  </tbody>\n",
              "</table>\n",
              "</div>"
            ],
            "text/plain": [
              "  file_name  Plant  Disease\n",
              "0     0.jpg      0        0\n",
              "1     1.jpg      1        1\n",
              "2     2.jpg      2        2\n",
              "3     3.jpg      3        3\n",
              "4     4.jpg      4        4"
            ]
          },
          "metadata": {
            "tags": []
          },
          "execution_count": 202
        }
      ]
    },
    {
      "cell_type": "code",
      "metadata": {
        "id": "TaFyBhrceQ2U",
        "outputId": "c89f71c3-e240-41c6-aa5d-c8bd0c4f438e",
        "colab": {
          "base_uri": "https://localhost:8080/",
          "height": 669
        }
      },
      "source": [
        "# train_df.head(20)"
      ],
      "execution_count": null,
      "outputs": [
        {
          "output_type": "execute_result",
          "data": {
            "text/html": [
              "<div>\n",
              "<style scoped>\n",
              "    .dataframe tbody tr th:only-of-type {\n",
              "        vertical-align: middle;\n",
              "    }\n",
              "\n",
              "    .dataframe tbody tr th {\n",
              "        vertical-align: top;\n",
              "    }\n",
              "\n",
              "    .dataframe thead th {\n",
              "        text-align: right;\n",
              "    }\n",
              "</style>\n",
              "<table border=\"1\" class=\"dataframe\">\n",
              "  <thead>\n",
              "    <tr style=\"text-align: right;\">\n",
              "      <th></th>\n",
              "      <th>file_name</th>\n",
              "      <th>Plant</th>\n",
              "      <th>Disease</th>\n",
              "      <th>label</th>\n",
              "    </tr>\n",
              "  </thead>\n",
              "  <tbody>\n",
              "    <tr>\n",
              "      <th>0</th>\n",
              "      <td>3_5_1123.jpg</td>\n",
              "      <td>3</td>\n",
              "      <td>5</td>\n",
              "      <td>0</td>\n",
              "    </tr>\n",
              "    <tr>\n",
              "      <th>1</th>\n",
              "      <td>3_20_1048.jpg</td>\n",
              "      <td>3</td>\n",
              "      <td>20</td>\n",
              "      <td>1</td>\n",
              "    </tr>\n",
              "    <tr>\n",
              "      <th>2</th>\n",
              "      <td>4_2_401.jpg</td>\n",
              "      <td>4</td>\n",
              "      <td>2</td>\n",
              "      <td>2</td>\n",
              "    </tr>\n",
              "    <tr>\n",
              "      <th>3</th>\n",
              "      <td>4_7_740.jpg</td>\n",
              "      <td>4</td>\n",
              "      <td>7</td>\n",
              "      <td>3</td>\n",
              "    </tr>\n",
              "    <tr>\n",
              "      <th>4</th>\n",
              "      <td>4_11_93.jpg</td>\n",
              "      <td>4</td>\n",
              "      <td>11</td>\n",
              "      <td>4</td>\n",
              "    </tr>\n",
              "    <tr>\n",
              "      <th>5</th>\n",
              "      <td>5_8_2846.jpg</td>\n",
              "      <td>5</td>\n",
              "      <td>8</td>\n",
              "      <td>5</td>\n",
              "    </tr>\n",
              "    <tr>\n",
              "      <th>6</th>\n",
              "      <td>7_1_0.jpg</td>\n",
              "      <td>7</td>\n",
              "      <td>1</td>\n",
              "      <td>6</td>\n",
              "    </tr>\n",
              "    <tr>\n",
              "      <th>7</th>\n",
              "      <td>7_20_1394.jpg</td>\n",
              "      <td>7</td>\n",
              "      <td>20</td>\n",
              "      <td>7</td>\n",
              "    </tr>\n",
              "    <tr>\n",
              "      <th>8</th>\n",
              "      <td>8_6_41.jpg</td>\n",
              "      <td>8</td>\n",
              "      <td>6</td>\n",
              "      <td>8</td>\n",
              "    </tr>\n",
              "    <tr>\n",
              "      <th>9</th>\n",
              "      <td>8_9_683.jpg</td>\n",
              "      <td>8</td>\n",
              "      <td>9</td>\n",
              "      <td>9</td>\n",
              "    </tr>\n",
              "    <tr>\n",
              "      <th>10</th>\n",
              "      <td>10_20_1921.jpg</td>\n",
              "      <td>10</td>\n",
              "      <td>20</td>\n",
              "      <td>10</td>\n",
              "    </tr>\n",
              "    <tr>\n",
              "      <th>11</th>\n",
              "      <td>11_14_1571.jpg</td>\n",
              "      <td>11</td>\n",
              "      <td>14</td>\n",
              "      <td>11</td>\n",
              "    </tr>\n",
              "    <tr>\n",
              "      <th>12</th>\n",
              "      <td>13_1_461.jpg</td>\n",
              "      <td>13</td>\n",
              "      <td>1</td>\n",
              "      <td>12</td>\n",
              "    </tr>\n",
              "    <tr>\n",
              "      <th>13</th>\n",
              "      <td>13_6_533.jpg</td>\n",
              "      <td>13</td>\n",
              "      <td>6</td>\n",
              "      <td>13</td>\n",
              "    </tr>\n",
              "    <tr>\n",
              "      <th>14</th>\n",
              "      <td>13_9_145.jpg</td>\n",
              "      <td>13</td>\n",
              "      <td>9</td>\n",
              "      <td>14</td>\n",
              "    </tr>\n",
              "    <tr>\n",
              "      <th>15</th>\n",
              "      <td>13_15_1720.jpg</td>\n",
              "      <td>13</td>\n",
              "      <td>15</td>\n",
              "      <td>15</td>\n",
              "    </tr>\n",
              "    <tr>\n",
              "      <th>16</th>\n",
              "      <td>13_16_379.jpg</td>\n",
              "      <td>13</td>\n",
              "      <td>16</td>\n",
              "      <td>16</td>\n",
              "    </tr>\n",
              "    <tr>\n",
              "      <th>17</th>\n",
              "      <td>13_17_150.jpg</td>\n",
              "      <td>13</td>\n",
              "      <td>17</td>\n",
              "      <td>17</td>\n",
              "    </tr>\n",
              "    <tr>\n",
              "      <th>18</th>\n",
              "      <td>13_18_4099.jpg</td>\n",
              "      <td>13</td>\n",
              "      <td>18</td>\n",
              "      <td>18</td>\n",
              "    </tr>\n",
              "    <tr>\n",
              "      <th>19</th>\n",
              "      <td>13_20_187.jpg</td>\n",
              "      <td>13</td>\n",
              "      <td>20</td>\n",
              "      <td>19</td>\n",
              "    </tr>\n",
              "  </tbody>\n",
              "</table>\n",
              "</div>"
            ],
            "text/plain": [
              "         file_name  Plant  Disease  label\n",
              "0     3_5_1123.jpg      3        5      0\n",
              "1    3_20_1048.jpg      3       20      1\n",
              "2      4_2_401.jpg      4        2      2\n",
              "3      4_7_740.jpg      4        7      3\n",
              "4      4_11_93.jpg      4       11      4\n",
              "5     5_8_2846.jpg      5        8      5\n",
              "6        7_1_0.jpg      7        1      6\n",
              "7    7_20_1394.jpg      7       20      7\n",
              "8       8_6_41.jpg      8        6      8\n",
              "9      8_9_683.jpg      8        9      9\n",
              "10  10_20_1921.jpg     10       20     10\n",
              "11  11_14_1571.jpg     11       14     11\n",
              "12    13_1_461.jpg     13        1     12\n",
              "13    13_6_533.jpg     13        6     13\n",
              "14    13_9_145.jpg     13        9     14\n",
              "15  13_15_1720.jpg     13       15     15\n",
              "16   13_16_379.jpg     13       16     16\n",
              "17   13_17_150.jpg     13       17     17\n",
              "18  13_18_4099.jpg     13       18     18\n",
              "19   13_20_187.jpg     13       20     19"
            ]
          },
          "metadata": {
            "tags": []
          },
          "execution_count": 245
        }
      ]
    },
    {
      "cell_type": "code",
      "metadata": {
        "id": "qDoCthiKQTZ4"
      },
      "source": [
        "# plant_dic = {15:13, 7:3, 8: 13, 16:4, 1:13, 9:4, 17:5,\n",
        "#              2:8, 10:13, 18:10, 3:13, 11:8, 19:3,\n",
        "#              4:11, 12:13, 5:7, 13:7, 6:13, 14:4, 0:13}\n",
        "plant_dic = {0:3, 1:3, 2:4, 3:4, 4:4, 5:5, 6:7, 7:7, 8:8, 9:8, 10:10, 11:11, 12:13, 13:13, 14:13, 15:13, 16:13, 17:13, 18:13, 19:13}"
      ],
      "execution_count": null,
      "outputs": []
    },
    {
      "cell_type": "code",
      "metadata": {
        "id": "FJ3QUDR1U7aC"
      },
      "source": [
        "# dz_dic = {15:1, 7:20, 8:6, 16:11, 1:18, 9:7, 17:8,\n",
        "#              2:9, 10:16, 18:20, 3:9, 11:6, 19:5,\n",
        "#              4:14, 12:17, 5:1, 13:20, 6:15, 14:2, 0:20}\n",
        "dz_dic = {0:5, 1:20, 2:2, 3:7, 4:11, 5:8, 6:1, 7:20, 8:6, 9:9, 10:20, 11:14, 12:1, 13:6, 14:9, 15:15, 16:16, 17:17, 18:18, 19:20}"
      ],
      "execution_count": null,
      "outputs": []
    },
    {
      "cell_type": "code",
      "metadata": {
        "id": "5TnCvl_AO6zm",
        "outputId": "4932c6a3-f944-48aa-cb92-55602727d4c1",
        "colab": {
          "base_uri": "https://localhost:8080/",
          "height": 204
        }
      },
      "source": [
        "submit4_df = test_df.replace({'Plant':plant_dic})\n",
        "submit5_df = submit4_df.replace({'Disease':dz_dic})\n",
        "submit5_df.head()\n"
      ],
      "execution_count": null,
      "outputs": [
        {
          "output_type": "execute_result",
          "data": {
            "text/html": [
              "<div>\n",
              "<style scoped>\n",
              "    .dataframe tbody tr th:only-of-type {\n",
              "        vertical-align: middle;\n",
              "    }\n",
              "\n",
              "    .dataframe tbody tr th {\n",
              "        vertical-align: top;\n",
              "    }\n",
              "\n",
              "    .dataframe thead th {\n",
              "        text-align: right;\n",
              "    }\n",
              "</style>\n",
              "<table border=\"1\" class=\"dataframe\">\n",
              "  <thead>\n",
              "    <tr style=\"text-align: right;\">\n",
              "      <th></th>\n",
              "      <th>file_name</th>\n",
              "      <th>Plant</th>\n",
              "      <th>Disease</th>\n",
              "    </tr>\n",
              "  </thead>\n",
              "  <tbody>\n",
              "    <tr>\n",
              "      <th>0</th>\n",
              "      <td>0.jpg</td>\n",
              "      <td>3</td>\n",
              "      <td>5</td>\n",
              "    </tr>\n",
              "    <tr>\n",
              "      <th>1</th>\n",
              "      <td>1.jpg</td>\n",
              "      <td>3</td>\n",
              "      <td>20</td>\n",
              "    </tr>\n",
              "    <tr>\n",
              "      <th>2</th>\n",
              "      <td>2.jpg</td>\n",
              "      <td>4</td>\n",
              "      <td>2</td>\n",
              "    </tr>\n",
              "    <tr>\n",
              "      <th>3</th>\n",
              "      <td>3.jpg</td>\n",
              "      <td>4</td>\n",
              "      <td>7</td>\n",
              "    </tr>\n",
              "    <tr>\n",
              "      <th>4</th>\n",
              "      <td>4.jpg</td>\n",
              "      <td>4</td>\n",
              "      <td>11</td>\n",
              "    </tr>\n",
              "  </tbody>\n",
              "</table>\n",
              "</div>"
            ],
            "text/plain": [
              "  file_name  Plant  Disease\n",
              "0     0.jpg      3        5\n",
              "1     1.jpg      3       20\n",
              "2     2.jpg      4        2\n",
              "3     3.jpg      4        7\n",
              "4     4.jpg      4       11"
            ]
          },
          "metadata": {
            "tags": []
          },
          "execution_count": 253
        }
      ]
    },
    {
      "cell_type": "code",
      "metadata": {
        "id": "zS8gdW9uiKbp"
      },
      "source": [
        "submit5_df.to_csv('/content/drive/My Drive/DataCollection/NIPA2020/submit.tsv', sep='\\t', index=False, header=False)"
      ],
      "execution_count": null,
      "outputs": []
    },
    {
      "cell_type": "code",
      "metadata": {
        "id": "lVlahsjhalIz",
        "outputId": "182ed4f3-0eab-48e9-cef1-7b33f586ca07",
        "colab": {
          "base_uri": "https://localhost:8080/",
          "height": 156
        }
      },
      "source": [
        "# tf.keras.models.save_model(\n",
        "#     model, data_path)"
      ],
      "execution_count": null,
      "outputs": [
        {
          "output_type": "stream",
          "text": [
            "WARNING:tensorflow:From /usr/local/lib/python3.6/dist-packages/tensorflow/python/training/tracking/tracking.py:111: Model.state_updates (from tensorflow.python.keras.engine.training) is deprecated and will be removed in a future version.\n",
            "Instructions for updating:\n",
            "This property should not be used in TensorFlow 2.0, as updates are applied automatically.\n",
            "WARNING:tensorflow:From /usr/local/lib/python3.6/dist-packages/tensorflow/python/training/tracking/tracking.py:111: Layer.updates (from tensorflow.python.keras.engine.base_layer) is deprecated and will be removed in a future version.\n",
            "Instructions for updating:\n",
            "This property should not be used in TensorFlow 2.0, as updates are applied automatically.\n",
            "INFO:tensorflow:Assets written to: /content/drive/My Drive/DataCollection/NIPA2020/assets\n"
          ],
          "name": "stdout"
        }
      ]
    },
    {
      "cell_type": "code",
      "metadata": {
        "id": "JfZK24X4_uq2"
      },
      "source": [
        "model.save('/content/drive/My Drive/DataCollection/NIPA2020/my_model.h5') "
      ],
      "execution_count": null,
      "outputs": []
    },
    {
      "cell_type": "code",
      "metadata": {
        "id": "a6eAjEdmWhCj"
      },
      "source": [
        ""
      ],
      "execution_count": null,
      "outputs": []
    }
  ]
}